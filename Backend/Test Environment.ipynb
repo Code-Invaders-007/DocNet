{
 "cells": [
  {
   "cell_type": "code",
   "execution_count": 1,
   "metadata": {},
   "outputs": [],
   "source": [
    "#Dependicies\n",
    "import firebase_admin\n",
    "from firebase_admin import credentials, firestore\n",
    "\n",
    "cred = credentials.Certificate(\n",
    "    \"Backend\\docnet-alpha-firebase-adminsdk-oxdy6-ea504dca30.json\")\n",
    "firebase_admin.initialize_app(cred)\n",
    "\n",
    "db = firebase_admin.firestore.client()\n"
   ]
  },
  {
   "cell_type": "code",
   "execution_count": 2,
   "metadata": {},
   "outputs": [],
   "source": [
    "# Function Definations\n",
    "\n",
    "def fireWrite(Ref, Data, id):\n",
    "    Ref.document(id).set(Data)\n",
    "\n",
    "\n",
    "def fireRead(Ref, id):\n",
    "    doc_ref = Ref.document(id)\n",
    "    doc = doc_ref.get()\n",
    "    return doc.to_dict()\n",
    "\n",
    "\n",
    "def fireUpdate(Ref, Data, id):\n",
    "    Ref.document(id).update(Data)\n"
   ]
  },
  {
   "cell_type": "code",
   "execution_count": 3,
   "metadata": {},
   "outputs": [],
   "source": [
    "#testing\n",
    "\n",
    "ref = db.collection(u'Users')\n",
    "uid = u'DOC00211'\n",
    "data = {\n",
    "    \"Name\": \"Rahul\",\n",
    "    \"Age\": 21,\n",
    "    \"username\": \"rahul007\"\n",
    "}\n",
    "fireWrite(ref, data, uid)"
   ]
  },
  {
   "cell_type": "code",
   "execution_count": 5,
   "metadata": {},
   "outputs": [
    {
     "name": "stdout",
     "output_type": "stream",
     "text": [
      "<class 'dict'>\n"
     ]
    }
   ],
   "source": [
    "# Read testing\n",
    "print(type(fireRead(ref, uid)))"
   ]
  }
 ],
 "metadata": {
  "kernelspec": {
   "display_name": "Python 3.10.5 64-bit",
   "language": "python",
   "name": "python3"
  },
  "language_info": {
   "codemirror_mode": {
    "name": "ipython",
    "version": 3
   },
   "file_extension": ".py",
   "mimetype": "text/x-python",
   "name": "python",
   "nbconvert_exporter": "python",
   "pygments_lexer": "ipython3",
   "version": "3.10.5"
  },
  "orig_nbformat": 4,
  "vscode": {
   "interpreter": {
    "hash": "f6b2390ac5076119bd333db31762f3c1a161964a33a1b0989d5e159cc110e5e3"
   }
  }
 },
 "nbformat": 4,
 "nbformat_minor": 2
}
